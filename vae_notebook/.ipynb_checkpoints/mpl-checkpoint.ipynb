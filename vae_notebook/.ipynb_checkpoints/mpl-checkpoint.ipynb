{
 "cells": [
  {
   "cell_type": "code",
   "execution_count": 2,
   "id": "2041fe7d-978a-4ef0-b67d-af42081b0b70",
   "metadata": {},
   "outputs": [],
   "source": [
    "import numpy as np\n",
    "import matplotlib.pyplot as plt\n",
    "import math"
   ]
  },
  {
   "cell_type": "code",
   "execution_count": 3,
   "id": "ffc63c76-5a70-4cb9-bb72-2ee3133f8af8",
   "metadata": {},
   "outputs": [],
   "source": [
    "#parameter\n",
    "a_c = 6.25             #台車駆動系のパラメータ\n",
    "b_c = 4.36             #台車駆動系のパラメータ\n",
    "m_p = 1.07 * 10 ** -1  #振り子の質量[kg]\n",
    "l_p = 2.30 * 10 ** -1  #振り子の軸から重心までの長さ[m]\n",
    "L_p = 3.80 * 10 ** -1  #振り子の全長[m]\n",
    "J_p = 1.59 * 10 ** -3  #振り子の重心周りの慣性モーメント[kg m^2]\n",
    "mu_p = 2.35 * 10 ** -4 #振り子の粘性摩擦係数 [kg m^2/s]\n",
    "g = 9.81               #重力加速度[m/s^2]"
   ]
  },
  {
   "cell_type": "code",
   "execution_count": 4,
   "id": "a14aa11c-bbb3-44db-a895-e721686487cf",
   "metadata": {},
   "outputs": [],
   "source": [
    "def formula1(a_c,dz,b_c,v):\n",
    "    \"\"\"\n",
    "    formula1(a_c,dz,b_c,v)\n",
    "    a_c 台車駆動系のパラメータ\n",
    "    dz  移動速度？\n",
    "    b_c 台車駆動系のパラメータ\n",
    "    v　　　　　　移動速度？\n",
    "    \"\"\"\n",
    "    ddz = a_c * dz + b_c * v\n",
    "    return ddz"
   ]
  },
  {
   "cell_type": "code",
   "execution_count": 5,
   "id": "01951a0d-edf2-4c03-85a9-b62dadb54a5f",
   "metadata": {},
   "outputs": [
    {
     "ename": "SyntaxError",
     "evalue": "cannot assign to expression here. Maybe you meant '==' instead of '='? (3479710481.py, line 2)",
     "output_type": "error",
     "traceback": [
      "\u001b[0;36m  Cell \u001b[0;32mIn[5], line 2\u001b[0;36m\u001b[0m\n\u001b[0;31m    m_p * l_p * np.cos(q) * ddz + (J_p + m_p * m_p**2) * ddq = -mu_p * dq + m_p * g * l_p * np.sin(q)\u001b[0m\n\u001b[0m    ^\u001b[0m\n\u001b[0;31mSyntaxError\u001b[0m\u001b[0;31m:\u001b[0m cannot assign to expression here. Maybe you meant '==' instead of '='?\n"
     ]
    }
   ],
   "source": [
    "def formula2(q):\n",
    "    m_p * l_p * np.cos(q) * ddz + (J_p + m_p * m_p**2) * ddq = -mu_p * dq + m_p * g * l_p * np.sin(q)\n",
    "    return 0"
   ]
  },
  {
   "cell_type": "code",
   "execution_count": 6,
   "id": "b0b0456c-e7c7-442d-a8e5-8036a0d44915",
   "metadata": {},
   "outputs": [],
   "source": [
    "#initial\n",
    "q0 = np.pi\n",
    "dq0 = 0\n",
    "z0 = 0\n",
    "dz0 = 0"
   ]
  },
  {
   "cell_type": "code",
   "execution_count": 8,
   "id": "ca2987d1-b3ab-41a4-9763-cf062d10e9dd",
   "metadata": {},
   "outputs": [],
   "source": [
    "def formula3(dz,dq,q):\n",
    "    return 10* dz**2 + 500*(-np.cos(q)+1)**2 + dz**2 + 15*dq**2"
   ]
  },
  {
   "cell_type": "code",
   "execution_count": null,
   "id": "7d22f0e5-3a8d-4c11-aea9-481f988f8d1a",
   "metadata": {},
   "outputs": [],
   "source": []
  }
 ],
 "metadata": {
  "kernelspec": {
   "display_name": "Python 3 (ipykernel)",
   "language": "python",
   "name": "python3"
  },
  "language_info": {
   "codemirror_mode": {
    "name": "ipython",
    "version": 3
   },
   "file_extension": ".py",
   "mimetype": "text/x-python",
   "name": "python",
   "nbconvert_exporter": "python",
   "pygments_lexer": "ipython3",
   "version": "3.10.8"
  }
 },
 "nbformat": 4,
 "nbformat_minor": 5
}
