{
 "cells": [
  {
   "cell_type": "markdown",
   "id": "35b7fb3b-8e33-4477-ba0c-5b6d9b8a1c17",
   "metadata": {},
   "source": [
    "# AEとVAEの潜在空間の比較"
   ]
  },
  {
   "cell_type": "markdown",
   "id": "35923f4c-3729-4b7a-818a-4605b8389985",
   "metadata": {},
   "source": [
    "## それぞれのグラフ\n",
    "AEの潜在空間とVAEの潜在空間をそれぞれ次の左と右の画像に示す．  \n",
    "<img src=\"img_ae_z.png\" width=\"400\"> <img src=\"img_vae_z.png\" width=\"400\">\n"
   ]
  },
  {
   "cell_type": "markdown",
   "id": "2ed778b1-61c2-4780-86c7-0609a6384db3",
   "metadata": {},
   "source": [
    "## 考察\n",
    "これら二つの結果の決定的な違いとして，潜在空間の中心が挙げられる．VAEの潜在空間の中心がおよそ原点に位置している一方，AEのものはそうではない．これは，VAEを学習する際，損失関数にKLダイバージェンスを用いた正則化項を加えているためであると考えられる．\n",
    "\n",
    "さらに，VAE側ではAE側に比べて潜在空間内で変数が偏りなくばらついている．AE側では偏りが見られる．このことから，VAEはAEに比べて偏りのない連続的な画像の生成に適していると考えることができる．"
   ]
  },
  {
   "cell_type": "code",
   "execution_count": null,
   "id": "eec2192f-13a2-4e46-9754-65ffedec468d",
   "metadata": {},
   "outputs": [],
   "source": []
  }
 ],
 "metadata": {
  "kernelspec": {
   "display_name": "Python 3 (ipykernel)",
   "language": "python",
   "name": "python3"
  },
  "language_info": {
   "codemirror_mode": {
    "name": "ipython",
    "version": 3
   },
   "file_extension": ".py",
   "mimetype": "text/x-python",
   "name": "python",
   "nbconvert_exporter": "python",
   "pygments_lexer": "ipython3",
   "version": "3.10.8"
  }
 },
 "nbformat": 4,
 "nbformat_minor": 5
}
