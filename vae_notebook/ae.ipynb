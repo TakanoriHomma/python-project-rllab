{
 "cells": [
  {
   "cell_type": "code",
   "execution_count": 3,
   "id": "ba3f58f4-8d86-4ea2-83ec-d9dccfe8aab1",
   "metadata": {},
   "outputs": [],
   "source": [
    "import numpy as np\n",
    "import matplotlib.pyplot as plt\n",
    "\n",
    "import torch\n",
    "import torch.nn as nn\n",
    "import torch.optim as optim\n",
    "import torchvision\n",
    "import torchvision.transforms as transforms\n",
    "from torch.utils.data import DataLoader"
   ]
  },
  {
   "cell_type": "code",
   "execution_count": 4,
   "id": "dc943165-1f24-4c7c-860f-72f7e8ee4925",
   "metadata": {},
   "outputs": [
    {
     "name": "stdout",
     "output_type": "stream",
     "text": [
      "fig shape : torch.Size([1, 28, 28]), label : 5\n"
     ]
    },
    {
     "data": {
      "image/png": "[encoded data removed]",
      "text/plain": [
       "<Figure size 640x480 with 5 Axes>"
      ]
     },
     "metadata": {},
     "output_type": "display_data"
    }
   ],
   "source": [
    "# transform = transforms.Compose([transforms.ToTensor()])\n",
    "# traindata = torchvision.datasets.MNIST(root='./data', train=True,download=True,transform=transform)\n",
    "# trainloader = DataLoader(traindata,batch_size = 64)\n",
    "\n",
    "train_dataset = torchvision.datasets.MNIST(root='./data',\n",
    "                                           train=True,\n",
    "                                           transform=transforms.ToTensor(),\n",
    "                                           download=True)\n",
    "\n",
    "test_dataset = torchvision.datasets.MNIST(root='./data',\n",
    "                                           train=False,\n",
    "                                           transform=transforms.ToTensor(),\n",
    "                                           download=True)\n",
    "\n",
    "fig, label = train_dataset[0]\n",
    "print(f'fig shape : {fig.size()}, label : {label}')\n",
    "\n",
    "fig, axes = plt.subplots(1, 5)\n",
    "for i in range(5):\n",
    "    axes[i].imshow(train_dataset[i][0].view(-1, 28), cmap='gray')\n",
    "    axes[i].axis(\"off\")\n",
    "# import matplotlib.pyplot as plt\n",
    "# fig = plt.figure(figsize=(10,4))\n",
    "\n",
    "# for i in range(10):\n",
    "#     ax = fig.add_subplot(2,5,i+1)\n",
    "#     ax.imshow(data[i,0])"
   ]
  },
  {
   "cell_type": "code",
   "execution_count": 7,
   "id": "6f44c923-2250-4fbe-9700-199bc60feb9c",
   "metadata": {},
   "outputs": [
    {
     "name": "stdout",
     "output_type": "stream",
     "text": [
      "Epoch [1/10], Loss: 0.9527846888692648\n",
      "Epoch [2/10], Loss: 0.9253688577904122\n",
      "Epoch [3/10], Loss: 0.9253702044232822\n",
      "Epoch [4/10], Loss: 0.9253675946548804\n",
      "Epoch [5/10], Loss: 0.9253680292985587\n",
      "Epoch [6/10], Loss: 0.9253669007500606\n",
      "Epoch [7/10], Loss: 0.9253678825110007\n",
      "Epoch [8/10], Loss: 0.925367651209394\n",
      "Epoch [9/10], Loss: 0.9253695228460755\n",
      "Epoch [10/10], Loss: 0.9253670568151007\n"
     ]
    },
    {
     "data": {
      "image/png": "[encoded data removed]",
      "text/plain": [
       "<Figure size 1000x400 with 8 Axes>"
      ]
     },
     "metadata": {},
     "output_type": "display_data"
    }
   ],
   "source": [
    "# ハイパーパラメータの設定\n",
    "num_epochs = 10\n",
    "batch_size = 128\n",
    "learning_rate = 0.001\n",
    "hidden_size = 32\n",
    "\n",
    "# 乱数のシードを設定して再現性を確保します\n",
    "torch.manual_seed(1205)\n",
    "\n",
    "# オートエンコーダのモデルを定義します\n",
    "class Autoencoder(nn.Module):\n",
    "    def __init__(self):\n",
    "        super(Autoencoder, self).__init__()\n",
    "        self.encoder = nn.Sequential(\n",
    "            nn.Linear(28 * 28, 128),\n",
    "            nn.ReLU(),\n",
    "            nn.Linear(128, 64),\n",
    "            nn.ReLU(),\n",
    "            nn.Linear(64, hidden_size),\n",
    "            nn.ReLU(),\n",
    "        )\n",
    "        self.decoder = nn.Sequential(\n",
    "            nn.Linear(hidden_size, 64),\n",
    "            nn.ReLU(),\n",
    "            nn.Linear(64, 128),\n",
    "            nn.ReLU(),\n",
    "            nn.Linear(128, 28 * 28),\n",
    "            nn.Sigmoid(),\n",
    "        )\n",
    "\n",
    "    def forward(self, x):\n",
    "        encoded = self.encoder(x)\n",
    "        decoded = self.decoder(encoded)\n",
    "        return decoded\n",
    "\n",
    "# MNISTデータセットを読み込みます\n",
    "transform = transforms.Compose([\n",
    "    transforms.ToTensor(),\n",
    "    transforms.Normalize((0.5,), (0.5,))  # 正規化\n",
    "])\n",
    "\n",
    "train_dataset = torchvision.datasets.MNIST(root='./data', train=True, download=True, transform=transform)\n",
    "train_loader = torch.utils.data.DataLoader(train_dataset, batch_size=batch_size, shuffle=True)\n",
    "\n",
    "# オートエンコーダモデルのインスタンスを作成します\n",
    "autoencoder = Autoencoder()\n",
    "\n",
    "# 損失関数とオプティマイザを定義します\n",
    "criterion = nn.MSELoss()\n",
    "optimizer = optim.Adam(autoencoder.parameters(), lr=learning_rate)\n",
    "\n",
    "# モデルのトレーニング\n",
    "for epoch in range(num_epochs):\n",
    "    running_loss = 0.0\n",
    "    for images, _ in train_loader:\n",
    "        # 入力データを平滑化します\n",
    "        images = images.view(images.size(0), -1)\n",
    "        \n",
    "        # 順伝播と逆伝播\n",
    "        optimizer.zero_grad()\n",
    "        outputs = autoencoder(images)\n",
    "        loss = criterion(outputs, images)\n",
    "        loss.backward()\n",
    "        optimizer.step()\n",
    "        \n",
    "        running_loss += loss.item()\n",
    "    \n",
    "    # エポックごとの損失を表示\n",
    "    print(f\"Epoch [{epoch+1}/{num_epochs}], Loss: {running_loss / len(train_loader)}\")\n",
    "\n",
    "# テストデータのエンコードとデコード\n",
    "test_dataset = torchvision.datasets.MNIST(root='./data', train=False, download=True, transform=transform)\n",
    "test_loader = torch.utils.data.DataLoader(test_dataset, batch_size=4, shuffle=False)\n",
    "\n",
    "# 最初の4つのテスト画像を取得します\n",
    "images, _ = next(iter(test_loader))\n",
    "images = images.view(images.size(0), -1)\n",
    "\n",
    "# テスト画像をエンコード・デコードします\n",
    "encoded_images = autoencoder.encoder(images)\n",
    "decoded_images = autoencoder(images)\n",
    "\n",
    "# 元の画像とデコードされた画像を可視化します\n",
    "fig, axes = plt.subplots(nrows=2, ncols=4, figsize=(10, 4))\n",
    "\n",
    "for i in range(4):\n",
    "    # 元の画像\n",
    "    axes[0, i].imshow(images[i].view(28, 28).cpu(), cmap='gray')\n",
    "    axes[0, i].axis('off')\n",
    "    \n",
    "    # デコードされた画像\n",
    "    axes[1, i].imshow(decoded_images[i].view(28, 28).detach().cpu(), cmap='gray')\n",
    "    axes[1, i].axis('off')\n",
    "\n",
    "plt.tight_layout()\n",
    "plt.show()"
   ]
  },
  {
   "cell_type": "code",
   "execution_count": null,
   "id": "6425f2fe-58c1-4ada-97da-f5a71f400503",
   "metadata": {},
   "outputs": [],
   "source": []
  }
 ],
 "metadata": {
  "kernelspec": {
   "display_name": "Python 3 (ipykernel)",
   "language": "python",
   "name": "python3"
  },
  "language_info": {
   "codemirror_mode": {
    "name": "ipython",
    "version": 3
   },
   "file_extension": ".py",
   "mimetype": "text/x-python",
   "name": "python",
   "nbconvert_exporter": "python",
   "pygments_lexer": "ipython3",
   "version": "3.10.8"
  }
 },
 "nbformat": 4,
 "nbformat_minor": 5
}
