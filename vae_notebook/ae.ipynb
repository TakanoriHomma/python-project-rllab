{
 "cells": [
  {
   "cell_type": "markdown",
   "id": "46d9a717-39fd-4667-8525-a3b07147b889",
   "metadata": {},
   "source": [
    "# オートエンコーダ（AE）"
   ]
  },
  {
   "cell_type": "markdown",
   "id": "35923f4c-3729-4b7a-818a-4605b8389985",
   "metadata": {},
   "source": [
    "## モジュールインポート・クラス定義"
   ]
  },
  {
   "cell_type": "markdown",
   "id": "2ed778b1-61c2-4780-86c7-0609a6384db3",
   "metadata": {},
   "source": [
    "### モジュールのインポート"
   ]
  },
  {
   "cell_type": "code",
   "execution_count": 1,
   "id": "ba3f58f4-8d86-4ea2-83ec-d9dccfe8aab1",
   "metadata": {},
   "outputs": [],
   "source": [
    "import numpy as np\n",
    "import matplotlib.pyplot as plt\n",
    "\n",
    "import torch\n",
    "import torch.nn as nn\n",
    "import torch.optim as optim\n",
    "import torchvision\n",
    "import torchvision.transforms as transforms\n",
    "from torch.utils.data import DataLoader"
   ]
  },
  {
   "cell_type": "markdown",
   "id": "34f3c0e0-813c-484f-944f-08e0b3d96255",
   "metadata": {},
   "source": [
    "### データセットのダウンロード"
   ]
  },
  {
   "cell_type": "code",
   "execution_count": 2,
   "id": "dc943165-1f24-4c7c-860f-72f7e8ee4925",
   "metadata": {},
   "outputs": [],
   "source": [
    "# transform = transforms.Compose([transforms.ToTensor()])\n",
    "# traindata = torchvision.datasets.MNIST(root='./data', train=True,download=True,transform=transform)\n",
    "# trainloader = DataLoader(traindata,batch_size = 64)\n",
    "\n",
    "train_dataset = torchvision.datasets.MNIST(root='./data',\n",
    "                                           train=True,\n",
    "                                           transform=transforms.ToTensor(),\n",
    "                                           download=True)\n",
    "\n",
    "test_dataset = torchvision.datasets.MNIST(root='./data',\n",
    "                                           train=False,\n",
    "                                           transform=transforms.ToTensor(),\n",
    "                                           download=True)\n",
    "\n",
    "# fig, label = train_dataset[0]\n",
    "# print(f'fig shape : {fig.size()}, label : {label}')\n",
    "\n",
    "# fig, axes = plt.subplots(1, 5)\n",
    "# for i in range(5):\n",
    "#     axes[i].imshow(train_dataset[i][0].view(-1, 28), cmap='gray')\n",
    "#     axes[i].axis(\"off\")\n",
    "# import matplotlib.pyplot as plt\n",
    "# fig = plt.figure(figsize=(10,4))\n",
    "\n",
    "# for i in range(10):\n",
    "#     ax = fig.add_subplot(2,5,i+1)\n",
    "#     ax.imshow(data[i,0])"
   ]
  },
  {
   "cell_type": "markdown",
   "id": "ac185de3-5fc8-401a-8560-030768b1bf34",
   "metadata": {},
   "source": [
    "### ハイパパラメータ・各種設定  \n",
    "- num_epochs  \n",
    "  エポック数\n",
    "- batch_size  \n",
    "  バッチサイズ\n",
    "- learning_rate  \n",
    "  学習率\n",
    "- hidden_size  \n",
    "  隠れ層のサイズ\n",
    "\n",
    "乱数をシードで固定．また，GPU使用に関して設定．"
   ]
  },
  {
   "cell_type": "code",
   "execution_count": 3,
   "id": "6ac85525",
   "metadata": {},
   "outputs": [
    {
     "name": "stdout",
     "output_type": "stream",
     "text": [
      "device: cuda\n"
     ]
    }
   ],
   "source": [
    "# ハイパーパラメータの設定\n",
    "num_epochs = 10\n",
    "batch_size = 128\n",
    "learning_rate = 0.001\n",
    "hidden_size1 = 256\n",
    "hidden_size2 = 128\n",
    "latent_size = 2\n",
    "\n",
    "# 乱数シード設定\n",
    "torch.manual_seed(1205)\n",
    "\n",
    "# デバイスの設定\n",
    "device = torch.device(\"cuda\" if torch.cuda.is_available() else \"cpu\")\n",
    "print(\"device:\", device)\n"
   ]
  },
  {
   "cell_type": "markdown",
   "id": "687e1e57-cac3-41e6-8ec1-d836a421ab64",
   "metadata": {},
   "source": [
    "### AEクラスの定義"
   ]
  },
  {
   "cell_type": "code",
   "execution_count": 4,
   "id": "e9b7d403",
   "metadata": {},
   "outputs": [],
   "source": [
    "# オートエンコーダのクラス\n",
    "# エンコーダ・デコーダを含めたもの．別々に分けて実装し，forwardで一つにしている．\n",
    "class Autoencoder(nn.Module):\n",
    "    def __init__(self):\n",
    "        super(Autoencoder, self).__init__()\n",
    "\n",
    "        self.input_size = 28 * 28\n",
    "        self.hidden_size1 = hidden_size1\n",
    "        self.hidden_size2 = hidden_size2\n",
    "        self.latent_size = latent_size\n",
    "        \n",
    "        # エンコーダ\n",
    "        # エンコーダ\n",
    "        self.encoder = nn.Sequential(\n",
    "            nn.Linear(self.input_size, self.hidden_size1),\n",
    "            nn.ReLU(),\n",
    "            nn.Linear(self.hidden_size1, self.hidden_size2),\n",
    "            nn.ReLU(),\n",
    "            nn.Linear(self.hidden_size2, self.latent_size),\n",
    "            # nn.ReLU()\n",
    "        )\n",
    "        # デコーダ\n",
    "        self.decoder = nn.Sequential(\n",
    "            nn.Linear(self.latent_size, self.hidden_size2),\n",
    "            nn.ReLU(),\n",
    "            nn.Linear(self.hidden_size2, self.hidden_size1),\n",
    "            nn.ReLU(),\n",
    "            nn.Linear(self.hidden_size1, self.input_size),\n",
    "            nn.Sigmoid()\n",
    "        )\n",
    "\n",
    "    def forward(self, x):\n",
    "        encoded = self.encoder(x)\n",
    "        decoded = self.decoder(encoded)\n",
    "        return decoded"
   ]
  },
  {
   "cell_type": "markdown",
   "id": "a3fd8771-9461-4d07-b730-111ced4269d5",
   "metadata": {},
   "source": [
    "### 学習データセットの作成\n",
    "MNISTデータセット読み込み，前処理を行ってデータセットを作成．テストデータセットは後ほど作成．\n",
    "ここではtransforms.Compose()関数を使用して，データの前処理を複数の変換（transform）を順に適用するパイプラインとして定義．\n",
    "- transforms.ToTensor():  \n",
    "画像データをテンソルに変換．MNISTの画像データは0から255の範囲の整数値で表されているが，\n",
    "ToTensor()変換によって0から1の範囲の浮動小数点テンソルに変換される．  \n",
    "これにより，画像データが[0, 255]の範囲から[0.0, 1.0]の範囲に正規化される．\n",
    "\n",
    "- transforms.Normalize((mean,), (sigma,)):  \n",
    "値の正規化に伴い，テンソルの各チャネルごとに平均と標準偏差を正規化．\n",
    "MNISTの場合，画像データは単一チャネルのグレースケール画像なので，正規化のためのパラメータは平均(mean,)と標準偏差(sigma,)となる．\n",
    "この変換により，各ピクセルの値が平均mean，標準偏差sigmaの範囲に変換される．\n",
    "\n",
    "これでMNISTの画像データがテンソルに変換され，範囲が正規化される．  \n",
    "また，それを用いて以下のオブジェクトを作成．\n",
    "- train_dataset  \n",
    "  用意したパイプラインを使ってMNISTデータセットからデータを作成\n",
    "- train_loader  \n",
    "  学習データセットをミニバッチ単位で取得するためのローダオブジェクト"
   ]
  },
  {
   "cell_type": "code",
   "execution_count": 5,
   "id": "454ff8ed",
   "metadata": {},
   "outputs": [],
   "source": [
    "# MNISTデータセット読み込み，変形してデータセットを作成\n",
    "transform = transforms.Compose([\n",
    "    transforms.ToTensor(),\n",
    "    transforms.Normalize((0.5,), (1.0,))\n",
    "])\n",
    "# 学習データセット\n",
    "train_dataset = torchvision.datasets.MNIST(root='./data', train=True, download=True, transform=transform)\n",
    "# 学習データセットをミニバッチ単位で取得するためのローダオブジェクト\n",
    "train_loader = torch.utils.data.DataLoader(train_dataset, batch_size=batch_size, shuffle=True)"
   ]
  },
  {
   "cell_type": "markdown",
   "id": "fd36a15e-864a-4e6a-a0f4-e72f1d815ec1",
   "metadata": {},
   "source": [
    "## 学習・可視化"
   ]
  },
  {
   "cell_type": "markdown",
   "id": "f6afb7c2-4a96-41f8-80d4-867159986517",
   "metadata": {},
   "source": [
    "### インスタンス生成"
   ]
  },
  {
   "cell_type": "code",
   "execution_count": 6,
   "id": "6f44c923-2250-4fbe-9700-199bc60feb9c",
   "metadata": {},
   "outputs": [],
   "source": [
    "# オートエンコーダモデルのインスタンスを作成\n",
    "autoencoder = Autoencoder().to(device)\n",
    "\n",
    "# 損失関数とオプティマイザを定義\n",
    "# criterion = nn.MSELoss()# 損失関数\n",
    "criterion = nn.BCELoss()# 損失関数\n",
    "optimizer = optim.Adam(autoencoder.parameters(), lr=learning_rate) # 池田オプティマイza\n",
    "\n",
    "# criterion = nn.MSELoss()  # 損失関数\n",
    "# optimizer = optim.SGD(autoencoder.parameters(), lr=learning_rate)  # オプティマイza"
   ]
  },
  {
   "cell_type": "markdown",
   "id": "687e6ead-b2a5-4b43-9b8a-ce2339bba562",
   "metadata": {},
   "source": [
    "### lossの計算と順伝搬・逆伝搬\n",
    "\n",
    "- outputs:\n",
    "オートエンコーダの出力（再構成データ）\n",
    "- inputs:\n",
    "outputsに対応する入力データ\n",
    "- criterion:\n",
    "inputとoutputsを比較し，適切な損失を計算．\n",
    "\n",
    "~~オートエンコーダでは一般的には平均二乗誤差（Mean Squared Error, MSE）が用いられる．~~    \n",
    "MSEは，各ピクセルの予測値と真の値の二乗誤差を平均した値である．     \n",
    "再構成データと元のデータのピクセル間の差を求め，その差を最小化することでオートエンコーダをトレーニングする．  \n",
    "PyTorchでは、nn.MSELoss()クラスを使用してMSEを計算することができる．  \n",
    "~~その他の損失関数としてはクロスエントロピー損失や二値交差エントロピー損失などがあるが，今回は用いない．~~  \n",
    "BCEを用いる．"
   ]
  },
  {
   "cell_type": "code",
   "execution_count": 7,
   "id": "c7eac2d3-1820-4f58-a4b5-23b139525d92",
   "metadata": {},
   "outputs": [
    {
     "name": "stdout",
     "output_type": "stream",
     "text": [
      "Epoch [1/10]------ Loss: -35.38176839083815\n",
      "Epoch [2/10]------ Loss: -36.967299048580344\n",
      "Epoch [3/10]------ Loss: -36.975425508739086\n",
      "Epoch [4/10]------ Loss: -36.95018252635053\n",
      "Epoch [5/10]------ Loss: -36.863541259440275\n",
      "Epoch [6/10]------ Loss: -36.8665450041228\n",
      "Epoch [7/10]------ Loss: -36.86973227722559\n",
      "Epoch [8/10]------ Loss: -36.87188448224749\n",
      "Epoch [9/10]------ Loss: -36.875681049534\n",
      "Epoch [10/10]------ Loss: -36.878519420176424\n"
     ]
    }
   ],
   "source": [
    "# モデルの学習\n",
    "for epoch in range(num_epochs):\n",
    "    running_loss = .0\n",
    "    for images, _ in train_loader:\n",
    "        # オートエンコーダに入力するため，データを平滑化\n",
    "        # バッチサイズを保持したまま，残りの次元を平滑化して一次元のベクトルに変換\n",
    "        input = images.view(images.size(0), -1).to(device)\n",
    "        \n",
    "        \"\"\"\n",
    "        model.train()    # 訓練モードにする\n",
    "        preds = model(x) # モデルの出力を取得\n",
    "        loss = criterion(preds, x) # 入力xと復元predsの誤差を取得\n",
    "        optimizer.zero_grad()      # 勾配を0で初期化\n",
    "        loss.backward()  # 誤差の勾配を計算\n",
    "        optimizer.step() # パラメーターの更新\n",
    "        train_loss += loss.item() # 誤差(損失)の更新\n",
    "        \"\"\"\n",
    "        autoencoder.train() \n",
    "        # 順伝播\n",
    "        # 勾配をゼロにリセット\n",
    "        optimizer.zero_grad()\n",
    "        # エンコーダに入力し，出力を得る\n",
    "        outputs = autoencoder(input)\n",
    "        # inputとoutputから損失（MSE）を計算\n",
    "        loss = criterion(outputs, input)\n",
    "        \n",
    "        # 逆伝搬\n",
    "        # 誤差逆伝播（backpropagation）を実行し．\n",
    "        # モデルの各パラメータに対する損失関数の勾配を計算．\n",
    "        # 具体的には，損失関数をバックワード方向に逆伝播し，各パラメータに対する勾配を計算．\n",
    "        # この勾配は各パラメータが損失を最小化する方向にどれだけ移動するべきかを示す．\n",
    "        loss.backward()\n",
    "        # optimizer.step()は，オプティマイザによるパラメータの更新を行う．\n",
    "        # 具体的には，step()メソッドを呼び出すことで，オプティマイザが計算された勾配を使用してモデルのパラメータを更新する．\n",
    "        # これにより，勾配降下法などの最適化アルゴリズムに基づいてパラメータが更新され，モデルが最適なパラメータに近づく．\n",
    "        optimizer.step()\n",
    "\n",
    "        # 各バッチの損失値を変数running_lossに累積\n",
    "        running_loss += loss.item()\n",
    "    \n",
    "    # エポックごとの損失を表示\n",
    "    print(f\"Epoch [{epoch+1}/{num_epochs}]------ Loss: {running_loss / len(train_loader)}\")"
   ]
  },
  {
   "cell_type": "markdown",
   "id": "fbe869f6-c35c-4d07-9388-5d0fae366202",
   "metadata": {},
   "source": [
    "### 訓練済みモデルでエンコード・デコード\n",
    "まず，torchvision.datasets.MNIST()関数を使用してMNISTデータセットのテスト用データを読み込む．\n",
    "引数にはデータセットの保存場所を示すroot，データが訓練データでなくテストデータであることを示すtrain=False，\n",
    "そしてデータの前処理を指定するtransform．\n",
    "download=Trueに設定するとデータがローカルに存在しない場合に自動的にダウンロードされる．\n",
    "\n",
    "次に，torch.utils.data.DataLoader()関数を使用してテストデータセットをバッチ単位で取得するためのデータローダーを作成．\n",
    "データローダーは指定したバッチサイズでデータを分割し，イテレーションごとにバッチを提供する機能を提供．"
   ]
  },
  {
   "cell_type": "code",
   "execution_count": 8,
   "id": "6425f2fe-58c1-4ada-97da-f5a71f400503",
   "metadata": {},
   "outputs": [],
   "source": [
    "# テストデータのエンコードとデコード\n",
    "test_dataset = torchvision.datasets.MNIST(root='./data', train=False, download=True, transform=transform)\n",
    "test_loader = torch.utils.data.DataLoader(test_dataset, batch_size=batch_size, shuffle=False)\n",
    "\n",
    "# 最初の4つのテスト画像を取得\n",
    "images, _ = next(iter(test_loader))\n",
    "images = images.view(images.size(0), -1).to(device)\n",
    "\n",
    "# model.eval() # ネットワークを評価モードにする\n",
    "autoencoder.eval() # ネットワークを評価モードにする\n",
    "\n",
    "# テスト画像をエンコード・デコード\n",
    "encoded_images = autoencoder.encoder(images)\n",
    "# decoded_images = autoencoder(images)\n",
    "decoded_images = autoencoder.decoder(encoded_images)\n",
    "# print(decoded_images)"
   ]
  },
  {
   "cell_type": "markdown",
   "id": "581e5f82-b14f-4c80-835e-30c04ab22217",
   "metadata": {},
   "source": [
    "### 出力\n",
    "元の画像とデコードされた画像を可視化する．"
   ]
  },
  {
   "cell_type": "code",
   "execution_count": 9,
   "id": "5d9f76f1-a007-464e-93e8-85016ed3f02b",
   "metadata": {},
   "outputs": [
    {
     "data": {
      "image/png": "[encoded data removed]",
      "text/plain": [
       "<Figure size 1000x400 with 8 Axes>"
      ]
     },
     "metadata": {},
     "output_type": "display_data"
    }
   ],
   "source": [
    "fig, axes = plt.subplots(nrows=2, ncols=4, figsize=(10, 4))\n",
    "\n",
    "for i in range(4):\n",
    "    # 元の画像\n",
    "    axes[0, i].imshow(images[i].view(28, 28).cpu(), cmap='gray')\n",
    "    axes[0, i].axis('off')\n",
    "    \n",
    "    # デコードされた画像\n",
    "    axes[1, i].imshow(decoded_images[i].view(28, 28).detach().cpu(), cmap='gray')\n",
    "    axes[1, i].axis('off')\n",
    "\n",
    "plt.tight_layout()\n",
    "plt.show()"
   ]
  },
  {
   "cell_type": "code",
   "execution_count": 10,
   "id": "20f619bd-a5bc-482c-8eea-ced35747f1cf",
   "metadata": {},
   "outputs": [
    {
     "data": {
      "image/png": "[encoded data removed]",
      "text/plain": [
       "<Figure size 640x480 with 1 Axes>"
      ]
     },
     "metadata": {},
     "output_type": "display_data"
    }
   ],
   "source": [
    "latent_space = encoded_images.cpu().detach().numpy()\n",
    "# print(latent_space)\n",
    "# 可視化\n",
    "\n",
    "fig = plt.figure()\n",
    "plt.scatter(latent_space[:, 0], latent_space[:, 1], color=\"r\")\n",
    "plt.xlabel('Latent Dimension 1')\n",
    "plt.ylabel('Latent Dimension 2')\n",
    "plt.title('Latent Space Visualization of AE')\n",
    "fig.savefig(\"img_ae_z.png\")\n",
    "plt.show()"
   ]
  },
  {
   "cell_type": "code",
   "execution_count": null,
   "id": "a9307d4c-ea35-43f3-89de-785205bea4c4",
   "metadata": {},
   "outputs": [],
   "source": []
  }
 ],
 "metadata": {
  "kernelspec": {
   "display_name": "Python 3 (ipykernel)",
   "language": "python",
   "name": "python3"
  },
  "language_info": {
   "codemirror_mode": {
    "name": "ipython",
    "version": 3
   },
   "file_extension": ".py",
   "mimetype": "text/x-python",
   "name": "python",
   "nbconvert_exporter": "python",
   "pygments_lexer": "ipython3",
   "version": "3.10.8"
  }
 },
 "nbformat": 4,
 "nbformat_minor": 5
}
