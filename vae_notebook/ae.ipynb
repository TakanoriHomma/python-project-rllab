{
 "cells": [
  {
   "cell_type": "code",
   "execution_count": 2,
   "id": "2041fe7d-978a-4ef0-b67d-af42081b0b70",
   "metadata": {},
   "outputs": [],
   "source": [
    "import numpy as np\n",
    "import matplotlib.pyplot as plt\n",
    "import math"
   ]
  },
  {
   "cell_type": "code",
   "execution_count": 3,
   "id": "ffc63c76-5a70-4cb9-bb72-2ee3133f8af8",
   "metadata": {},
   "outputs": [],
   "source": [
    "#parameter\n",
    "a_c = 6.25             #台車駆動系のパラメータ\n",
    "b_c = 4.36             #台車駆動系のパラメータ\n",
    "m_p = 1.07 * 10 ** -1  #振り子の質量[kg]\n",
    "l_p = 2.30 * 10 ** -1  #振り子の軸から重心までの長さ[m]\n",
    "L_p = 3.80 * 10 ** -1  #振り子の全長[m]\n",
    "J_p = 1.59 * 10 ** -3  #振り子の重心周りの慣性モーメント[kg m^2]\n",
    "mu_p = 2.35 * 10 ** -4 #振り子の粘性摩擦係数 [kg m^2/s]\n",
    "g = 9.81               #重力加速度[m/s^2]"
   ]
  },
  {
   "cell_type": "code",
   "execution_count": 17,
   "id": "6227650e-4ffb-4380-a844-3f2752a8ada6",
   "metadata": {},
   "outputs": [
    {
     "data": {
      "text/plain": [
       "'\\ndef Calculate_ddz(dz, v):\\n    formula1(a_c,dz,b_c,v)\\n    a_c 台車駆動系のパラメータ\\n    dz  移動変位\\n    b_c 台車駆動系のパラメータ\\n    v    制御入力\\n    \\n    A = torch.tensor([[0.0,1.0],[0.0,a_c]])\\n    b = torch.tensor([[0.0],[b_c]])\\n    x = torch.tensor([[z],[dz]])\\n    u = torch.tensor([[v]])\\n    y = torch.mm(A,x) + b * u\\n\\n    #ddz = a_c * dz + b_c * v\\n    return y\\n'"
      ]
     },
     "execution_count": 17,
     "metadata": {},
     "output_type": "execute_result"
    }
   ],
   "source": [
    "'''\n",
    "def Calculate_ddz(dz, v):\n",
    "    formula1(a_c,dz,b_c,v)\n",
    "    a_c 台車駆動系のパラメータ\n",
    "    dz  移動変位\n",
    "    b_c 台車駆動系のパラメータ\n",
    "    v    制御入力\n",
    "    \n",
    "    A = torch.tensor([[0.0,1.0],[0.0,a_c]])\n",
    "    b = torch.tensor([[0.0],[b_c]])\n",
    "    x = torch.tensor([[z],[dz]])\n",
    "    u = torch.tensor([[v]])\n",
    "    y = torch.mm(A,x) + b * u\n",
    "\n",
    "    #ddz = a_c * dz + b_c * v\n",
    "    return y\n",
    "'''"
   ]
  },
  {
   "cell_type": "code",
   "execution_count": null,
   "id": "085a9e5c-458b-42ae-bfc5-e68cc9d3e1e9",
   "metadata": {},
   "outputs": [],
   "source": [
    "y = Calculate_ddz(dz, v)\n",
    "print(y)"
   ]
  },
  {
   "cell_type": "code",
   "execution_count": 20,
   "id": "a14aa11c-bbb3-44db-a895-e721686487cf",
   "metadata": {},
   "outputs": [],
   "source": [
    "def Calculate_ddz(dz, v):\n",
    "    ddz = a_c * dz + b_c * v\n",
    "    return ddz"
   ]
  },
  {
   "cell_type": "code",
   "execution_count": 10,
   "id": "01951a0d-edf2-4c03-85a9-b62dadb54a5f",
   "metadata": {},
   "outputs": [],
   "source": [
    "'''def formula2(q):\n",
    "    m_p * l_p * np.cos(q) * ddz + (J_p + m_p * m_p**2) * ddq = -mu_p * dq + m_p * g * l_p * np.sin(q)\n",
    "    return 0\n",
    "'''\n",
    "def Calculate_ddq(dq, q, ddz):\n",
    "  return (-mu_p * dq + m_p * g * l_p * np.sin(q) - m_p * l_p * np.cos(q) * ddz)/((J_p + m_p * m_p**2))"
   ]
  },
  {
   "cell_type": "code",
   "execution_count": 6,
   "id": "b0b0456c-e7c7-442d-a8e5-8036a0d44915",
   "metadata": {},
   "outputs": [],
   "source": [
    "#initial\n",
    "q0 = np.pi\n",
    "dq0 = 0\n",
    "z0 = 0\n",
    "dz0 = 0"
   ]
  },
  {
   "cell_type": "code",
   "execution_count": 22,
   "id": "ca2987d1-b3ab-41a4-9763-cf062d10e9dd",
   "metadata": {},
   "outputs": [],
   "source": [
    "def loss_cost(ddq,dq,q,ddz,dz):\n",
    "    #10* dz**2 + 500*(-np.cos(q)+1)**2 + dz**2 + 15*dq**2\n",
    "    return 20*dz*ddz + 1000*np.sin(q)*(-np.cos(q)+1) + 2*dz*ddz +30*dq*ddq"
   ]
  },
  {
   "cell_type": "code",
   "execution_count": 38,
   "id": "035d7471-bc5b-401e-bea2-9e73af5c18df",
   "metadata": {},
   "outputs": [],
   "source": [
    "p = []\n",
    "angle_p = []\n",
    "input_s = []\n",
    "h = 0.02  #width\n",
    "t = np.arange(0,10,h)\n",
    "\n",
    "#variable\n",
    "q = q0     #angle\n",
    "dq = dq0  #angular velocity\n",
    "z = z0    #position\n",
    "dz = dz0  #velocity\n",
    "\n",
    "for _ in t:\n",
    "  v=np.random.uniform(-1,1) #External input\n",
    "  input_s.append(v)\n",
    "  ddz = Calculate_ddz(dz,v)\n",
    "  dz += ddz * h\n",
    "  z += dz * h\n",
    "  p.append(z)\n",
    "  #print(z)\n",
    "  #print(ddz)\n",
    "  ddq = Calculate_ddq(dz,dq,q)\n",
    "  dq += ddq * h\n",
    "  q += dq * h\n",
    "  angle_p.append(q)\n",
    "  #print(ddq)"
   ]
  },
  {
   "cell_type": "code",
   "execution_count": 44,
   "id": "373025fa-f7ae-4cf5-9b94-81f23aa5afc7",
   "metadata": {},
   "outputs": [
    {
     "data": {
      "image/png": "[encoded data removed]",
      "text/plain": [
       "<Figure size 640x480 with 1 Axes>"
      ]
     },
     "metadata": {},
     "output_type": "display_data"
    }
   ],
   "source": [
    "plt.plot(t,p)\n",
    "plt.plot(t,angle_p)\n",
    "plt.plot(t,input_s)\n",
    "plt.show()"
   ]
  },
  {
   "cell_type": "code",
   "execution_count": null,
   "id": "dc943165-1f24-4c7c-860f-72f7e8ee4925",
   "metadata": {},
   "outputs": [],
   "source": []
  }
 ],
 "metadata": {
  "kernelspec": {
   "display_name": "Python 3 (ipykernel)",
   "language": "python",
   "name": "python3"
  },
  "language_info": {
   "codemirror_mode": {
    "name": "ipython",
    "version": 3
   },
   "file_extension": ".py",
   "mimetype": "text/x-python",
   "name": "python",
   "nbconvert_exporter": "python",
   "pygments_lexer": "ipython3",
   "version": "3.10.8"
  }
 },
 "nbformat": 4,
 "nbformat_minor": 5
}
